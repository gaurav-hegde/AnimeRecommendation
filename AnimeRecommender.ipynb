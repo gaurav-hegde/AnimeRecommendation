{
  "nbformat": 4,
  "nbformat_minor": 0,
  "metadata": {
    "colab": {
      "provenance": [],
      "authorship_tag": "ABX9TyM24Nn5uddd4d+Fi4/CjjiZ",
      "include_colab_link": true
    },
    "kernelspec": {
      "name": "python3",
      "display_name": "Python 3"
    },
    "language_info": {
      "name": "python"
    }
  },
  "cells": [
    {
      "cell_type": "markdown",
      "metadata": {
        "id": "view-in-github",
        "colab_type": "text"
      },
      "source": [
        "<a href=\"https://colab.research.google.com/github/gaurav-hegde/AnimeRecommendation/blob/main/AnimeRecommender.ipynb\" target=\"_parent\"><img src=\"https://colab.research.google.com/assets/colab-badge.svg\" alt=\"Open In Colab\"/></a>"
      ]
    },
    {
      "cell_type": "markdown",
      "source": [
        "# Data Preprocessing"
      ],
      "metadata": {
        "id": "AGGU7Is_PcIv"
      }
    },
    {
      "cell_type": "code",
      "execution_count": 1,
      "metadata": {
        "id": "yCKej7FotEK6"
      },
      "outputs": [],
      "source": [
        "import pandas as pd\n",
        "import numpy as np"
      ]
    },
    {
      "cell_type": "code",
      "source": [
        "anime = pd.read_csv('anime.csv')"
      ],
      "metadata": {
        "id": "-ZFlqSO-PiZs"
      },
      "execution_count": 2,
      "outputs": []
    },
    {
      "cell_type": "markdown",
      "source": [
        "Handling missing values"
      ],
      "metadata": {
        "id": "5lla63SQQCIZ"
      }
    },
    {
      "cell_type": "code",
      "source": [
        "anime.fillna({'genre': '', 'rating': anime['rating'].mean(), 'type': 'Unknown'}, inplace=True)"
      ],
      "metadata": {
        "id": "t_EJiPT3QEWT"
      },
      "execution_count": 3,
      "outputs": []
    },
    {
      "cell_type": "code",
      "source": [
        "anime['episodes'] = anime['episodes'].apply(lambda x: 1 if x == 'Unknown' else x)\n",
        "anime['episodes'] = pd.to_numeric(anime['episodes'], errors='coerce')\n",
        "anime['episodes'].fillna(anime['episodes'].mean(), inplace=True)"
      ],
      "metadata": {
        "id": "_p-3vGF0QK4S"
      },
      "execution_count": 4,
      "outputs": []
    },
    {
      "cell_type": "markdown",
      "source": [
        "# Feature Engineering"
      ],
      "metadata": {
        "id": "rzCbhnDwQNXU"
      }
    },
    {
      "cell_type": "code",
      "source": [
        "from sklearn.preprocessing import MultiLabelBinarizer"
      ],
      "metadata": {
        "id": "wyG5D-V8QPpE"
      },
      "execution_count": 5,
      "outputs": []
    },
    {
      "cell_type": "code",
      "source": [
        "anime['genre'] = anime['genre'].apply(lambda x: x.split(', ') if x != '' else [])\n",
        "\n",
        "# One-hot encode genres\n",
        "mlb = MultiLabelBinarizer()\n",
        "genre_onehot = mlb.fit_transform(anime['genre'])\n",
        "genre_df = pd.DataFrame(genre_onehot, columns=mlb.classes_)\n",
        "\n",
        "# One-hot encode types\n",
        "type_onehot = pd.get_dummies(anime['type'])\n",
        "\n",
        "# Combine features into a single DataFrame\n",
        "features = pd.concat([genre_df, type_onehot, anime[['rating', 'episodes']]], axis=1)"
      ],
      "metadata": {
        "id": "cmi76enWQSWX"
      },
      "execution_count": 6,
      "outputs": []
    },
    {
      "cell_type": "markdown",
      "source": [
        "# Using Cosine Similarity"
      ],
      "metadata": {
        "id": "CjJlLkMnQcHu"
      }
    },
    {
      "cell_type": "code",
      "source": [
        "from sklearn.metrics.pairwise import cosine_similarity\n",
        "\n",
        "# Compute cosine similarity matrix\n",
        "similarity_matrix = cosine_similarity(features)"
      ],
      "metadata": {
        "id": "FAomWm8qQgaS"
      },
      "execution_count": 7,
      "outputs": []
    },
    {
      "cell_type": "markdown",
      "source": [
        "# Recommendation Function"
      ],
      "metadata": {
        "id": "gT_0u-GxQkV1"
      }
    },
    {
      "cell_type": "code",
      "source": [
        "def recommend_anime(anime_name, anime_df, similarity_matrix, n=5):\n",
        "    if anime_name not in anime_df['name'].values:\n",
        "        return \"Anime not found in the dataset.\"\n",
        "\n",
        "    # Find the index of the given anime\n",
        "    anime_idx = anime_df[anime_df['name'] == anime_name].index[0]\n",
        "\n",
        "    # Get the pairwise similarity scores for all anime with the given anime\n",
        "    similarity_scores = list(enumerate(similarity_matrix[anime_idx]))\n",
        "\n",
        "    # Sort anime based on similarity scores\n",
        "    similarity_scores = sorted(similarity_scores, key=lambda x: x[1], reverse=True)\n",
        "\n",
        "    # Get the indices of the top n most similar anime\n",
        "    top_anime_indices = [x[0] for x in similarity_scores[1:n+1]]\n",
        "\n",
        "    # Return the names of the top n most similar anime\n",
        "    return anime_df.iloc[top_anime_indices][['name', 'genre', 'type', 'rating', 'episodes']]"
      ],
      "metadata": {
        "id": "gmy6cP7FQmiQ"
      },
      "execution_count": 8,
      "outputs": []
    },
    {
      "cell_type": "markdown",
      "source": [
        "# User Input"
      ],
      "metadata": {
        "id": "lWlInWVAQt7T"
      }
    },
    {
      "cell_type": "code",
      "source": [
        "def get_user_input_and_recommend(anime_df, similarity_matrix):\n",
        "    # Take user input\n",
        "    user_input = input(\"Enter the name of an anime you like: \")\n",
        "\n",
        "    # Get recommendations\n",
        "    recommendations = recommend_anime(user_input, anime_df, similarity_matrix, n=5)\n",
        "\n",
        "    # Display recommendations\n",
        "    if isinstance(recommendations, str):\n",
        "        print(recommendations)\n",
        "    else:\n",
        "        print(\"Here are 5 anime similar to '{}':\".format(user_input))\n",
        "        for idx, row in recommendations.iterrows():\n",
        "            print(f\"{row['name']} (Type: {row['type']}, Rating: {row['rating']}, Episodes: {row['episodes']})\")\n",
        "            print(f\"Genres: {', '.join(row['genre'])}\")\n",
        "            print(\"-\" * 50)"
      ],
      "metadata": {
        "id": "q4MrKRulQzET"
      },
      "execution_count": 9,
      "outputs": []
    },
    {
      "cell_type": "markdown",
      "source": [
        "# Example Usage"
      ],
      "metadata": {
        "id": "gDjjlJUqQ1zi"
      }
    },
    {
      "cell_type": "code",
      "source": [
        "get_user_input_and_recommend(anime, similarity_matrix)"
      ],
      "metadata": {
        "colab": {
          "base_uri": "https://localhost:8080/"
        },
        "id": "fWNPd7stRDoS",
        "outputId": "4914c2ac-d469-4625-aedc-0e5054c7c8e1"
      },
      "execution_count": 11,
      "outputs": [
        {
          "output_type": "stream",
          "name": "stdout",
          "text": [
            "Enter the name of an anime you like: Bleach\n",
            "Here are 5 anime similar to 'Bleach':\n",
            "Keroro Gunsou (Type: TV, Rating: 7.93, Episodes: 358)\n",
            "Genres: Comedy, Sci-Fi, Shounen\n",
            "--------------------------------------------------\n",
            "Kabatotto (Type: TV, Rating: 6.55, Episodes: 300)\n",
            "Genres: Comedy\n",
            "--------------------------------------------------\n",
            "Atashin&#039;chi (Type: TV, Rating: 7.39, Episodes: 330)\n",
            "Genres: Comedy, Slice of Life\n",
            "--------------------------------------------------\n",
            "Cookin&#039; Idol Ai! Mai! Main! (Type: TV, Rating: 6.56, Episodes: 305)\n",
            "Genres: Comedy, Kids\n",
            "--------------------------------------------------\n",
            "Kochira Katsushikaku Kameari Kouenmae Hashutsujo (TV) (Type: TV, Rating: 7.82, Episodes: 373)\n",
            "Genres: Comedy, Police, Slice of Life\n",
            "--------------------------------------------------\n"
          ]
        }
      ]
    }
  ]
}